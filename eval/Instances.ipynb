{
 "cells": [
  {
   "cell_type": "code",
   "execution_count": 1,
   "metadata": {},
   "outputs": [],
   "source": [
    "import pandas as pd\n",
    "import os\n",
    "import re"
   ]
  },
  {
   "cell_type": "code",
   "execution_count": 2,
   "metadata": {},
   "outputs": [],
   "source": [
    "basedir = \"/algoDaten/mzuendorf/sea_paper/graph\"\n",
    "instances = []\n",
    "for graph in [\"Chicago\", \"London\", \"Stuttgart\", \"Europe\"]:\n",
    "    instances.append({\n",
    "        'graph': graph,\n",
    "        'n': (os.path.getsize(\"{}/{}/first_out\".format(basedir, graph.lower())) / 4) - 1,\n",
    "        'm': os.path.getsize(\"{}/{}/head\".format(basedir, graph.lower())) / 4,\n",
    "        'm_exp': os.path.getsize(\"{}/{}_exp/head\".format(basedir, graph.lower())) / 4,\n",
    "    })\n",
    "instances = pd.DataFrame(instances)\n",
    "\n",
    "instances['n'] = instances['n'] / 1000.0\n",
    "instances['m'] = instances['m'] / 1000.0\n",
    "instances['m_exp'] = instances['m_exp'] / 1000.0"
   ]
  },
  {
   "cell_type": "code",
   "execution_count": 3,
   "metadata": {},
   "outputs": [
    {
     "name": "stdout",
     "output_type": "stream",
     "text": [
      "\\begin{tabular}{llrrr}\n",
      "\\toprule\n",
      "{} &      graph &       n &       m &    m\\_exp \\\\\n",
      "\\midrule\n",
      "0 &    Chicago &    13.0 &    39.0 &    135.3 \\\\\n",
      "1 &     London &    37.0 &    85.5 &    137.2 \\\\\n",
      "2 &  Stuttgart &   109.5 &   252.1 &    394.2 \\\\\n",
      "3 &     Europe & 17\\,350.0 & 39\\,936.5 & 105\\,382.0 \\\\\n",
      "\\bottomrule\n",
      "\\end{tabular}\n",
      "\n"
     ]
    }
   ],
   "source": [
    "pd.set_option('display.float_format', lambda x: '%.1f' % x)\n",
    "latex = instances.to_latex()\n",
    "latex = re.sub(re.compile('([0-9]{3}(?=[0-9]))'), '\\\\g<0>,\\\\\\\\', latex[::-1])[::-1]\n",
    "print(latex)"
   ]
  }
 ],
 "metadata": {
  "kernelspec": {
   "display_name": "Python 3",
   "language": "python",
   "name": "python3"
  },
  "language_info": {
   "codemirror_mode": {
    "name": "ipython",
    "version": 3
   },
   "file_extension": ".py",
   "mimetype": "text/x-python",
   "name": "python",
   "nbconvert_exporter": "python",
   "pygments_lexer": "ipython3",
   "version": "3.8.2"
  }
 },
 "nbformat": 4,
 "nbformat_minor": 4
}
