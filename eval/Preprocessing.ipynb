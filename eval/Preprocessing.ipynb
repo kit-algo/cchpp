{
 "cells": [
  {
   "cell_type": "code",
   "execution_count": 1,
   "id": "23deb74b-352d-44f6-877c-55e8da627912",
   "metadata": {},
   "outputs": [],
   "source": [
    "import numpy as np\n",
    "import matplotlib as mpl\n",
    "from matplotlib import pyplot as plt\n",
    "\n",
    "import pandas as pd\n",
    "\n",
    "import json\n",
    "import glob\n",
    "import os\n",
    "import re"
   ]
  },
  {
   "cell_type": "code",
   "execution_count": 2,
   "id": "1d1b379a-60ac-45bf-80cb-214cdb34abd7",
   "metadata": {},
   "outputs": [],
   "source": [
    "base = \"../exp/\"\n",
    "paths = glob.glob(base + \"preprocessing/*.json\")\n",
    "data = [json.load(open(path)) for path in paths]"
   ]
  },
  {
   "cell_type": "code",
   "execution_count": 3,
   "id": "af4d0dd5-6903-4156-9c24-74c5a1169bd7",
   "metadata": {},
   "outputs": [],
   "source": [
    "runs = pd.DataFrame.from_records([{\n",
    "    **run,\n",
    "    'graph': run['args'][1]\n",
    "} for run in data])"
   ]
  },
  {
   "cell_type": "code",
   "execution_count": 5,
   "id": "c6d169a2-ff80-4d9e-bc3a-8366dc238d34",
   "metadata": {},
   "outputs": [
    {
     "data": {
      "text/plain": [
       "Index(['algo', 'args', 'basic_customization_running_time_ms', 'build_profile',\n",
       "       'build_target', 'build_time', 'build_with_rustc',\n",
       "       'contraction_running_time_ms', 'feature_flags', 'git_revision', 'graph',\n",
       "       'graph_build_running_time_ms', 'hostname', 'num_arcs_inserted',\n",
       "       'num_threads', 'perfect_customization_running_time_ms', 'program',\n",
       "       'respecting_running_time_ms', 'start_time'],\n",
       "      dtype='object')"
      ]
     },
     "execution_count": 5,
     "metadata": {},
     "output_type": "execute_result"
    }
   ],
   "source": [
    "runs.columns"
   ]
  },
  {
   "cell_type": "code",
   "execution_count": 7,
   "id": "b24af1c5-85cb-4acd-be42-22e0984ec164",
   "metadata": {},
   "outputs": [
    {
     "data": {
      "text/html": [
       "<div>\n",
       "<style scoped>\n",
       "    .dataframe tbody tr th:only-of-type {\n",
       "        vertical-align: middle;\n",
       "    }\n",
       "\n",
       "    .dataframe tbody tr th {\n",
       "        vertical-align: top;\n",
       "    }\n",
       "\n",
       "    .dataframe thead th {\n",
       "        text-align: right;\n",
       "    }\n",
       "</style>\n",
       "<table border=\"1\" class=\"dataframe\">\n",
       "  <thead>\n",
       "    <tr style=\"text-align: right;\">\n",
       "      <th></th>\n",
       "      <th>basic_customization_running_time_ms</th>\n",
       "      <th>perfect_customization_running_time_ms</th>\n",
       "      <th>graph_build_running_time_ms</th>\n",
       "    </tr>\n",
       "    <tr>\n",
       "      <th>num_threads</th>\n",
       "      <th></th>\n",
       "      <th></th>\n",
       "      <th></th>\n",
       "    </tr>\n",
       "  </thead>\n",
       "  <tbody>\n",
       "    <tr>\n",
       "      <th>1</th>\n",
       "      <td>3430.993334</td>\n",
       "      <td>4671.483810</td>\n",
       "      <td>1921.352885</td>\n",
       "    </tr>\n",
       "    <tr>\n",
       "      <th>2</th>\n",
       "      <td>1798.037140</td>\n",
       "      <td>2386.293493</td>\n",
       "      <td>989.224701</td>\n",
       "    </tr>\n",
       "    <tr>\n",
       "      <th>4</th>\n",
       "      <td>1071.844498</td>\n",
       "      <td>1236.206162</td>\n",
       "      <td>555.220185</td>\n",
       "    </tr>\n",
       "    <tr>\n",
       "      <th>8</th>\n",
       "      <td>745.117656</td>\n",
       "      <td>680.692009</td>\n",
       "      <td>366.962234</td>\n",
       "    </tr>\n",
       "    <tr>\n",
       "      <th>16</th>\n",
       "      <td>544.773518</td>\n",
       "      <td>360.326528</td>\n",
       "      <td>311.167416</td>\n",
       "    </tr>\n",
       "  </tbody>\n",
       "</table>\n",
       "</div>"
      ],
      "text/plain": [
       "             basic_customization_running_time_ms  \\\n",
       "num_threads                                        \n",
       "1                                    3430.993334   \n",
       "2                                    1798.037140   \n",
       "4                                    1071.844498   \n",
       "8                                     745.117656   \n",
       "16                                    544.773518   \n",
       "\n",
       "             perfect_customization_running_time_ms  \\\n",
       "num_threads                                          \n",
       "1                                      4671.483810   \n",
       "2                                      2386.293493   \n",
       "4                                      1236.206162   \n",
       "8                                       680.692009   \n",
       "16                                      360.326528   \n",
       "\n",
       "             graph_build_running_time_ms  \n",
       "num_threads                               \n",
       "1                            1921.352885  \n",
       "2                             989.224701  \n",
       "4                             555.220185  \n",
       "8                             366.962234  \n",
       "16                            311.167416  "
      ]
     },
     "execution_count": 7,
     "metadata": {},
     "output_type": "execute_result"
    }
   ],
   "source": [
    "runs.groupby('num_threads')[['basic_customization_running_time_ms', 'perfect_customization_running_time_ms', 'graph_build_running_time_ms']].mean()"
   ]
  }
 ],
 "metadata": {
  "kernelspec": {
   "display_name": "Python 3 (ipykernel)",
   "language": "python",
   "name": "python3"
  },
  "language_info": {
   "codemirror_mode": {
    "name": "ipython",
    "version": 3
   },
   "file_extension": ".py",
   "mimetype": "text/x-python",
   "name": "python",
   "nbconvert_exporter": "python",
   "pygments_lexer": "ipython3",
   "version": "3.10.4"
  }
 },
 "nbformat": 4,
 "nbformat_minor": 5
}
